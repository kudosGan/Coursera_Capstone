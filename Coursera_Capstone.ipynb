{
    "nbformat_minor": 1, 
    "cells": [
        {
            "source": "###### Write some markdown to explain that this notebook will be mainly used for the capstone project.", 
            "cell_type": "markdown", 
            "metadata": {}
        }, 
        {
            "source": "Now, start a Jupyter Notebook using any platform that you are comfortable with and do the following:\n\n1) Write some markdown to explain that this notebook will be mainly used for the capstone project.\n\n2) Import the pandas library as pd.", 
            "cell_type": "markdown", 
            "metadata": {}
        }, 
        {
            "source": "import pandas as pd", 
            "cell_type": "code", 
            "metadata": {}, 
            "outputs": [], 
            "execution_count": null
        }, 
        {
            "source": "3) Import the Numpy library as np.", 
            "cell_type": "markdown", 
            "metadata": {}
        }, 
        {
            "source": "import numpy as np", 
            "cell_type": "code", 
            "metadata": {}, 
            "outputs": [], 
            "execution_count": null
        }, 
        {
            "source": "\n4)Print the following the statement: Hello Capstone Project Course!", 
            "cell_type": "markdown", 
            "metadata": {}
        }, 
        {
            "source": "print(\"Hello Capstone Project Course!\")", 
            "cell_type": "code", 
            "metadata": {}, 
            "outputs": [
                {
                    "output_type": "stream", 
                    "name": "stdout", 
                    "text": "Hello Capstone Project Course!\n"
                }
            ], 
            "execution_count": 8
        }, 
        {
            "source": "Push the Notebook to your Github repository and submit a link to the notebook on your Github repository", 
            "cell_type": "markdown", 
            "metadata": {}
        }, 
        {
            "source": "", 
            "cell_type": "code", 
            "metadata": {}, 
            "outputs": [], 
            "execution_count": null
        }
    ], 
    "metadata": {
        "kernelspec": {
            "display_name": "Python 3.6", 
            "name": "python3", 
            "language": "python"
        }, 
        "language_info": {
            "mimetype": "text/x-python", 
            "nbconvert_exporter": "python", 
            "version": "3.6.8", 
            "name": "python", 
            "pygments_lexer": "ipython3", 
            "file_extension": ".py", 
            "codemirror_mode": {
                "version": 3, 
                "name": "ipython"
            }
        }
    }, 
    "nbformat": 4
}